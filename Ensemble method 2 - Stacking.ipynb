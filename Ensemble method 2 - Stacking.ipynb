{
 "cells": [
  {
   "cell_type": "code",
   "execution_count": 3,
   "metadata": {
    "collapsed": false
   },
   "outputs": [],
   "source": [
    "import pandas as pd\n",
    "import numpy as np\n",
    "import matplotlib.pyplot as plt\n",
    "import seaborn as sns\n",
    "plt.style.use('bmh')\n",
    "%matplotlib inline\n",
    "from sklearn import preprocessing\n",
    "\n",
    "from sklearn.ensemble import RandomForestClassifier, AdaBoostClassifier, GradientBoostingClassifier, ExtraTreesClassifier\n",
    "from sklearn.svm import SVC\n",
    "from sklearn.neighbors import KNeighborsClassifier\n",
    "from sklearn.linear_model import LogisticRegression\n",
    "\n",
    "from sklearn.model_selection import KFold"
   ]
  },
  {
   "cell_type": "markdown",
   "metadata": {},
   "source": [
    "#### Details of data manipulation codes: Please see file in the same folder, named: 'Ensemble method 1 - (soft) Voting Classifier'\n",
    "#### In order to focus on Stacking method and implement Stacking quickly, I just throw all the data clearning code all together."
   ]
  },
  {
   "cell_type": "code",
   "execution_count": 44,
   "metadata": {
    "collapsed": false
   },
   "outputs": [
    {
     "data": {
      "text/html": [
       "<div>\n",
       "<table border=\"1\" class=\"dataframe\">\n",
       "  <thead>\n",
       "    <tr style=\"text-align: right;\">\n",
       "      <th></th>\n",
       "      <th>Survived</th>\n",
       "      <th>Pclass</th>\n",
       "      <th>Sex</th>\n",
       "      <th>Age</th>\n",
       "      <th>Fare</th>\n",
       "      <th>Embarked</th>\n",
       "      <th>Alone</th>\n",
       "      <th>Title</th>\n",
       "    </tr>\n",
       "  </thead>\n",
       "  <tbody>\n",
       "    <tr>\n",
       "      <th>0</th>\n",
       "      <td>0</td>\n",
       "      <td>3</td>\n",
       "      <td>1</td>\n",
       "      <td>1</td>\n",
       "      <td>0</td>\n",
       "      <td>2</td>\n",
       "      <td>0</td>\n",
       "      <td>2</td>\n",
       "    </tr>\n",
       "    <tr>\n",
       "      <th>1</th>\n",
       "      <td>1</td>\n",
       "      <td>1</td>\n",
       "      <td>0</td>\n",
       "      <td>2</td>\n",
       "      <td>3</td>\n",
       "      <td>0</td>\n",
       "      <td>0</td>\n",
       "      <td>3</td>\n",
       "    </tr>\n",
       "    <tr>\n",
       "      <th>2</th>\n",
       "      <td>1</td>\n",
       "      <td>3</td>\n",
       "      <td>0</td>\n",
       "      <td>1</td>\n",
       "      <td>0</td>\n",
       "      <td>2</td>\n",
       "      <td>1</td>\n",
       "      <td>1</td>\n",
       "    </tr>\n",
       "    <tr>\n",
       "      <th>3</th>\n",
       "      <td>1</td>\n",
       "      <td>1</td>\n",
       "      <td>0</td>\n",
       "      <td>2</td>\n",
       "      <td>3</td>\n",
       "      <td>2</td>\n",
       "      <td>0</td>\n",
       "      <td>3</td>\n",
       "    </tr>\n",
       "    <tr>\n",
       "      <th>4</th>\n",
       "      <td>0</td>\n",
       "      <td>3</td>\n",
       "      <td>1</td>\n",
       "      <td>2</td>\n",
       "      <td>0</td>\n",
       "      <td>2</td>\n",
       "      <td>1</td>\n",
       "      <td>2</td>\n",
       "    </tr>\n",
       "  </tbody>\n",
       "</table>\n",
       "</div>"
      ],
      "text/plain": [
       "   Survived  Pclass  Sex  Age  Fare  Embarked  Alone  Title\n",
       "0         0       3    1    1     0         2      0      2\n",
       "1         1       1    0    2     3         0      0      3\n",
       "2         1       3    0    1     0         2      1      1\n",
       "3         1       1    0    2     3         2      0      3\n",
       "4         0       3    1    2     0         2      1      2"
      ]
     },
     "execution_count": 44,
     "metadata": {},
     "output_type": "execute_result"
    }
   ],
   "source": [
    "train = pd.read_csv('train.csv')\n",
    "test = pd.read_csv('test.csv')\n",
    "combine = [train, test] # combine train and test data, easy to do data manipulation\n",
    "\n",
    "for df in combine: # add feature 'FamilySize'                                  \n",
    "    df['FamilySize'] = df['SibSp'] + df['Parch'] + 1\n",
    "\n",
    "for df in combine: # add feature 'Alone' \n",
    "    df['Alone'] = 0\n",
    "    df.loc[df['FamilySize'] == 1, 'Alone'] = 1\n",
    "\n",
    "for df in combine: # fill missing values for 'Embarked'\n",
    "    df['Embarked'].fillna(df['Embarked'].mode()[0], inplace=True)\n",
    "    \n",
    "for df in combine: # fill missing values for 'Fare' and transform into categorical feature\n",
    "    df['Fare'].fillna(df['Fare'].median(), inplace=True)\n",
    "    df.loc[df['Fare'] <= 10.5, 'Fare'] = 0\n",
    "    df.loc[(df['Fare'] > 10.5) & (df['Fare'] <= 21.679), 'Fare'] = 1\n",
    "    df.loc[(df['Fare'] > 21.679) & (df['Fare'] <= 39.688), 'Fare'] = 2\n",
    "    df.loc[(df['Fare'] > 39.688) & (df['Fare'] <= 512.329), 'Fare'] = 3\n",
    "    df.loc[df['Fare'] > 512.329, 'Fare'] = 4\n",
    "    \n",
    "    \n",
    "for df in combine: # fill missing values for 'Age' and transform into categorical feature\n",
    "    avg = df['Age'].mean()\n",
    "    std = df['Age'].std()\n",
    "    NaN_count = df['Age'].isnull().sum()\n",
    "    \n",
    "    age_fill = np.random.randint(avg-std, avg+std, NaN_count)\n",
    "    df.loc[df['Age'].isnull(), 'Age'] = age_fill\n",
    "    df['Age'] = df['Age'].astype(int)\n",
    "    \n",
    "    df.loc[df['Age'] <= 16, 'Age'] = 0\n",
    "    df.loc[(df['Age'] > 16) & (df['Age'] <= 32), 'Age'] = 1\n",
    "    df.loc[(df['Age'] > 32) & (df['Age'] <= 48), 'Age'] = 2\n",
    "    df.loc[(df['Age'] > 48) & (df['Age'] <= 64), 'Age'] = 3\n",
    "    df.loc[df['Age'] > 64, 'Age'] = 4\n",
    "    \n",
    "#for df in combine:\n",
    "#    df['Age*Pclass'] = df['Age'] * df['Pclass']\n",
    "    \n",
    "#for df in combine:\n",
    "#    df['Age*Fare'] = df['Age'] * df['Fare']\n",
    "    \n",
    "import re\n",
    "def only_title(name): # manipulation 'Name', extracting titles from names\n",
    "    title = re.findall(' ([A-Za-z]+)\\.', name)\n",
    "    if title:\n",
    "        return title[0]\n",
    "    \n",
    "for df in combine:\n",
    "    df['Title'] = df['Name'].apply(only_title) \n",
    "    \n",
    "for df in combine:\n",
    "    df['Title'] = df['Title'].replace(['Lady', 'Countess','Capt', 'Col', 'Don', 'Dr', 'Major', \n",
    "                                     'Rev', 'Sir', 'Jonkheer', 'Dona'], 'Rare')\n",
    "    df['Title'] = df['Title'].replace('Mlle', 'Miss')\n",
    "    df['Title'] = df['Title'].replace('Ms', 'Miss')\n",
    "    df['Title'] = df['Title'].replace('Mme', 'Mrs')\n",
    "\n",
    "############ Encoding features, make them ready for classifiers\n",
    "feature_drop = ['PassengerId', 'Name', 'SibSp', 'Parch', 'Ticket', 'Cabin', 'FamilySize']\n",
    "for df in combine:\n",
    "    df.drop(feature_drop, axis=1, inplace=True)\n",
    "\n",
    "def encode_features(train, test):\n",
    "    features = ['Sex', 'Embarked', 'Fare', 'Age', 'Title']\n",
    "    df_combined = pd.concat([train[features], test[features]])\n",
    "    \n",
    "    for feature in features:\n",
    "        le = preprocessing.LabelEncoder()\n",
    "        le = le.fit(df_combined[feature])\n",
    "        train[feature] = le.transform(train[feature])\n",
    "        test[feature] = le.transform(test[feature])\n",
    "    return train, test\n",
    "    \n",
    "train, test = encode_features(train, test)\n",
    "train.head()"
   ]
  },
  {
   "cell_type": "markdown",
   "metadata": {},
   "source": [
    "## Ensembling & Stacking models"
   ]
  },
  {
   "cell_type": "code",
   "execution_count": 45,
   "metadata": {
    "collapsed": false
   },
   "outputs": [
    {
     "name": "stdout",
     "output_type": "stream",
     "text": [
      "(891, 7)\n",
      "(891,)\n",
      "(418, 7)\n"
     ]
    }
   ],
   "source": [
    "# Create Numpy arrays of train, test and target (Survived) dataframes to feed into our models\n",
    "y_train = train['Survived'].ravel()\n",
    "train = train.drop(['Survived'], axis=1)\n",
    "X_train = train.values # Creates an array of the train data\n",
    "X_test = test.values # Creats an array of the test data\n",
    "\n",
    "print(X_train.shape)\n",
    "print(y_train.shape)\n",
    "print(X_test.shape)"
   ]
  },
  {
   "cell_type": "code",
   "execution_count": 46,
   "metadata": {
    "collapsed": false
   },
   "outputs": [],
   "source": [
    "# Class to extend the Sklearn classifier\n",
    "class SklearnHelper(object):\n",
    "    def __init__(self, clf, seed=2017, params=None):\n",
    "        params['random_state'] = seed\n",
    "        self.clf = clf(**params)\n",
    "\n",
    "    def train(self, X_train, y_train):\n",
    "        self.clf.fit(X_train, y_train)\n",
    "\n",
    "    def predict(self, x):\n",
    "        return self.clf.predict(x)\n",
    "    \n",
    "    def fit(self, x, y):\n",
    "        return self.clf.fit(x,y)\n",
    "    \n",
    "    def feature_importances(self, x, y):\n",
    "        print(self.clf.fit(x, y).feature_importances_)"
   ]
  },
  {
   "cell_type": "markdown",
   "metadata": {},
   "source": [
    "### Define Out-of-Fold Predictions"
   ]
  },
  {
   "cell_type": "code",
   "execution_count": 47,
   "metadata": {
    "collapsed": true
   },
   "outputs": [],
   "source": [
    "##### KFold ouput example:\n",
    "#kf = KFold(n_splits=3)\n",
    "#for i, (j, k) in enumerate(kf.split(train[:13])):\n",
    "#    print(i, (j, k))\n",
    "\n",
    "# Out-of-Fold Predictions \n",
    "ntrain = train.shape[0]  # 891\n",
    "ntest = test.shape[0]    # 418\n",
    "SEED = 2017\n",
    "kf = KFold(n_splits=5, random_state=SEED)\n",
    "\n",
    "def get_oof(clf, X_train, y_train, X_test):\n",
    "    oof_train = np.zeros((ntrain,))    # 1 * 891\n",
    "    oof_test = np.zeros((ntest,))      # 1* 418\n",
    "    oof_test_skf = np.empty((5, ntest))  # 5 * 418\n",
    "    \n",
    "    for i, (train_index, test_index) in enumerate(kf.split(X_train)):    # X_train: 891 * 7\n",
    "        kf_X_train = X_train[train_index]  # 712 * 7   ex: 712 instances for each fold\n",
    "        kf_y_train = y_train[train_index]  # 712 * 1   ex: 712 instances for each fold\n",
    "        kf_X_test = X_train[test_index]    # 179 * 7   ex: 178 instances for each fold\n",
    "\n",
    "        clf.train(kf_X_train, kf_y_train)\n",
    "\n",
    "        oof_train[test_index] = clf.predict(kf_X_test) # 1 * 179 =======> will be 1 * 891 after 5 folds\n",
    "        oof_test_skf[i, :] = clf.predict(X_test)   #  oof_test_skf[i, :]: 1 * 418\n",
    "\n",
    "    oof_test[:] = oof_test_skf.mean(axis=0) # oof_test[:]  1 * 418\n",
    "    return oof_train.reshape(-1, 1), oof_test.reshape(-1, 1) \n",
    "    # oof_train.reshape(-1, 1): 891 * 1        oof_test.reshape(-1, 1): 418 * 1"
   ]
  },
  {
   "cell_type": "markdown",
   "metadata": {},
   "source": [
    "## First Level Base Models\n",
    "\n",
    "##### Random Forest classifier + Extra Trees classifier + AdaBoost classifer + Gradient Boosting classifer"
   ]
  },
  {
   "cell_type": "code",
   "execution_count": 48,
   "metadata": {
    "collapsed": false
   },
   "outputs": [],
   "source": [
    "# Random Forest parameters\n",
    "rf_params = {'n_jobs':-1, 'n_estimators':20, 'criterion':'entropy'}\n",
    "\n",
    "# Extra Trees Parameters\n",
    "et_params = {'n_jobs':-1, 'n_estimators':200, 'max_depth': 8, 'min_samples_leaf': 2}\n",
    "\n",
    "# AdaBoost parameters\n",
    "ada_params = {'n_estimators':90, 'learning_rate':0.9 }\n",
    "\n",
    "# Gradient Boosting parameters\n",
    "gb_params = {'n_estimators':20, 'max_depth':5, 'min_samples_leaf':2}"
   ]
  },
  {
   "cell_type": "code",
   "execution_count": 49,
   "metadata": {
    "collapsed": false
   },
   "outputs": [],
   "source": [
    "# Create objects from 4 models\n",
    "rf = SklearnHelper(clf=RandomForestClassifier, seed=SEED, params=rf_params)\n",
    "et = SklearnHelper(clf=ExtraTreesClassifier, seed=SEED, params=et_params)\n",
    "ada = SklearnHelper(clf=AdaBoostClassifier, seed=SEED, params=ada_params)\n",
    "gb = SklearnHelper(clf=GradientBoostingClassifier, seed=SEED, params=gb_params)"
   ]
  },
  {
   "cell_type": "code",
   "execution_count": 50,
   "metadata": {
    "collapsed": false
   },
   "outputs": [],
   "source": [
    "et_oof_train, et_oof_test = get_oof(et, X_train, y_train, X_test) # Extra Trees\n",
    "rf_oof_train, rf_oof_test = get_oof(rf, X_train, y_train, X_test) # Random Forest\n",
    "ada_oof_train, ada_oof_test = get_oof(ada, X_train, y_train, X_test) # AdaBoost \n",
    "gb_oof_train, gb_oof_test = get_oof(gb, X_train, y_train, X_test) # Gradient Boost"
   ]
  },
  {
   "cell_type": "markdown",
   "metadata": {},
   "source": [
    "### Feature importances  from 4 classifiers"
   ]
  },
  {
   "cell_type": "code",
   "execution_count": 51,
   "metadata": {
    "collapsed": false
   },
   "outputs": [
    {
     "name": "stdout",
     "output_type": "stream",
     "text": [
      "[ 0.17696528  0.23800994  0.12226612  0.16721264  0.07909706  0.0448232\n",
      "  0.17162576]\n",
      "[ 0.17966485  0.4463214   0.04482821  0.10127096  0.04270606  0.03838342\n",
      "  0.1468251 ]\n",
      "[ 0.14444444  0.11111111  0.06666667  0.13333333  0.12222222  0.08888889\n",
      "  0.33333333]\n",
      "[ 0.19752195  0.49965435  0.05772726  0.11152833  0.04082558  0.01437443\n",
      "  0.07836811]\n"
     ]
    }
   ],
   "source": [
    "rf_feature = rf.feature_importances(X_train,y_train)\n",
    "et_feature = et.feature_importances(X_train, y_train)\n",
    "ada_feature = ada.feature_importances(X_train, y_train)\n",
    "gb_feature = gb.feature_importances(X_train,y_train)"
   ]
  },
  {
   "cell_type": "code",
   "execution_count": 52,
   "metadata": {
    "collapsed": true
   },
   "outputs": [],
   "source": [
    "rf_features = [0.17696528, 0.23800994, 0.12226612, 0.16721264, 0.07909706, 0.0448232, 0.17162576]\n",
    "et_features = [0.17966485, 0.4463214,  0.04482821, 0.10127096, 0.04270606, 0.03838342, 0.1468251]\n",
    "ada_features = [0.14444444, 0.11111111, 0.06666667, 0.13333333, 0.12222222, 0.08888889, 0.33333333]\n",
    "gb_features = [0.19752195, 0.49965435, 0.05772726, 0.11152833, 0.04082558, 0.01437443, 0.07836811]"
   ]
  },
  {
   "cell_type": "code",
   "execution_count": 53,
   "metadata": {
    "collapsed": false
   },
   "outputs": [
    {
     "data": {
      "text/html": [
       "<div>\n",
       "<table border=\"1\" class=\"dataframe\">\n",
       "  <thead>\n",
       "    <tr style=\"text-align: right;\">\n",
       "      <th></th>\n",
       "      <th>AdaBoost feature importances</th>\n",
       "      <th>Extra Trees  feature importances</th>\n",
       "      <th>Gradient Boost feature importances</th>\n",
       "      <th>Random Forest feature importances</th>\n",
       "      <th>features</th>\n",
       "    </tr>\n",
       "  </thead>\n",
       "  <tbody>\n",
       "    <tr>\n",
       "      <th>0</th>\n",
       "      <td>0.144444</td>\n",
       "      <td>0.179665</td>\n",
       "      <td>0.197522</td>\n",
       "      <td>0.176965</td>\n",
       "      <td>Pclass</td>\n",
       "    </tr>\n",
       "    <tr>\n",
       "      <th>1</th>\n",
       "      <td>0.111111</td>\n",
       "      <td>0.446321</td>\n",
       "      <td>0.499654</td>\n",
       "      <td>0.238010</td>\n",
       "      <td>Sex</td>\n",
       "    </tr>\n",
       "    <tr>\n",
       "      <th>2</th>\n",
       "      <td>0.066667</td>\n",
       "      <td>0.044828</td>\n",
       "      <td>0.057727</td>\n",
       "      <td>0.122266</td>\n",
       "      <td>Age</td>\n",
       "    </tr>\n",
       "    <tr>\n",
       "      <th>3</th>\n",
       "      <td>0.133333</td>\n",
       "      <td>0.101271</td>\n",
       "      <td>0.111528</td>\n",
       "      <td>0.167213</td>\n",
       "      <td>Fare</td>\n",
       "    </tr>\n",
       "    <tr>\n",
       "      <th>4</th>\n",
       "      <td>0.122222</td>\n",
       "      <td>0.042706</td>\n",
       "      <td>0.040826</td>\n",
       "      <td>0.079097</td>\n",
       "      <td>Embarked</td>\n",
       "    </tr>\n",
       "    <tr>\n",
       "      <th>5</th>\n",
       "      <td>0.088889</td>\n",
       "      <td>0.038383</td>\n",
       "      <td>0.014374</td>\n",
       "      <td>0.044823</td>\n",
       "      <td>Alone</td>\n",
       "    </tr>\n",
       "    <tr>\n",
       "      <th>6</th>\n",
       "      <td>0.333333</td>\n",
       "      <td>0.146825</td>\n",
       "      <td>0.078368</td>\n",
       "      <td>0.171626</td>\n",
       "      <td>Title</td>\n",
       "    </tr>\n",
       "  </tbody>\n",
       "</table>\n",
       "</div>"
      ],
      "text/plain": [
       "   AdaBoost feature importances  Extra Trees  feature importances  \\\n",
       "0                      0.144444                          0.179665   \n",
       "1                      0.111111                          0.446321   \n",
       "2                      0.066667                          0.044828   \n",
       "3                      0.133333                          0.101271   \n",
       "4                      0.122222                          0.042706   \n",
       "5                      0.088889                          0.038383   \n",
       "6                      0.333333                          0.146825   \n",
       "\n",
       "   Gradient Boost feature importances  Random Forest feature importances  \\\n",
       "0                            0.197522                           0.176965   \n",
       "1                            0.499654                           0.238010   \n",
       "2                            0.057727                           0.122266   \n",
       "3                            0.111528                           0.167213   \n",
       "4                            0.040826                           0.079097   \n",
       "5                            0.014374                           0.044823   \n",
       "6                            0.078368                           0.171626   \n",
       "\n",
       "   features  \n",
       "0    Pclass  \n",
       "1       Sex  \n",
       "2       Age  \n",
       "3      Fare  \n",
       "4  Embarked  \n",
       "5     Alone  \n",
       "6     Title  "
      ]
     },
     "execution_count": 53,
     "metadata": {},
     "output_type": "execute_result"
    }
   ],
   "source": [
    "cols = train.columns.values\n",
    "# Create a dataframe with features\n",
    "feature_dataframe = pd.DataFrame( {'features': cols, 'Random Forest feature importances': rf_features,\n",
    "                                                     'Extra Trees  feature importances': et_features,\n",
    "                                                      'AdaBoost feature importances': ada_features,\n",
    "                                                    'Gradient Boost feature importances': gb_features})\n",
    "feature_dataframe"
   ]
  },
  {
   "cell_type": "code",
   "execution_count": 54,
   "metadata": {
    "collapsed": false
   },
   "outputs": [
    {
     "data": {
      "text/html": [
       "<div>\n",
       "<table border=\"1\" class=\"dataframe\">\n",
       "  <thead>\n",
       "    <tr style=\"text-align: right;\">\n",
       "      <th></th>\n",
       "      <th>features</th>\n",
       "      <th>mean</th>\n",
       "    </tr>\n",
       "  </thead>\n",
       "  <tbody>\n",
       "    <tr>\n",
       "      <th>0</th>\n",
       "      <td>Pclass</td>\n",
       "      <td>0.174649</td>\n",
       "    </tr>\n",
       "    <tr>\n",
       "      <th>1</th>\n",
       "      <td>Sex</td>\n",
       "      <td>0.323774</td>\n",
       "    </tr>\n",
       "    <tr>\n",
       "      <th>2</th>\n",
       "      <td>Age</td>\n",
       "      <td>0.072872</td>\n",
       "    </tr>\n",
       "    <tr>\n",
       "      <th>3</th>\n",
       "      <td>Fare</td>\n",
       "      <td>0.128336</td>\n",
       "    </tr>\n",
       "    <tr>\n",
       "      <th>4</th>\n",
       "      <td>Embarked</td>\n",
       "      <td>0.071213</td>\n",
       "    </tr>\n",
       "    <tr>\n",
       "      <th>5</th>\n",
       "      <td>Alone</td>\n",
       "      <td>0.046617</td>\n",
       "    </tr>\n",
       "    <tr>\n",
       "      <th>6</th>\n",
       "      <td>Title</td>\n",
       "      <td>0.182538</td>\n",
       "    </tr>\n",
       "  </tbody>\n",
       "</table>\n",
       "</div>"
      ],
      "text/plain": [
       "   features      mean\n",
       "0    Pclass  0.174649\n",
       "1       Sex  0.323774\n",
       "2       Age  0.072872\n",
       "3      Fare  0.128336\n",
       "4  Embarked  0.071213\n",
       "5     Alone  0.046617\n",
       "6     Title  0.182538"
      ]
     },
     "execution_count": 54,
     "metadata": {},
     "output_type": "execute_result"
    }
   ],
   "source": [
    "feature_dataframe['mean'] = feature_dataframe.mean(axis= 1) \n",
    "feature_dataframe[['features', 'mean']]"
   ]
  },
  {
   "cell_type": "markdown",
   "metadata": {},
   "source": [
    "#### Second-Level Predictions from the First-level Output"
   ]
  },
  {
   "cell_type": "code",
   "execution_count": 55,
   "metadata": {
    "collapsed": false
   },
   "outputs": [
    {
     "data": {
      "text/html": [
       "<div>\n",
       "<table border=\"1\" class=\"dataframe\">\n",
       "  <thead>\n",
       "    <tr style=\"text-align: right;\">\n",
       "      <th></th>\n",
       "      <th>AdaBoost</th>\n",
       "      <th>ExtraTrees</th>\n",
       "      <th>GradientBoost</th>\n",
       "      <th>RandomForest</th>\n",
       "    </tr>\n",
       "  </thead>\n",
       "  <tbody>\n",
       "    <tr>\n",
       "      <th>0</th>\n",
       "      <td>0.0</td>\n",
       "      <td>0.0</td>\n",
       "      <td>0.0</td>\n",
       "      <td>0.0</td>\n",
       "    </tr>\n",
       "    <tr>\n",
       "      <th>1</th>\n",
       "      <td>1.0</td>\n",
       "      <td>1.0</td>\n",
       "      <td>1.0</td>\n",
       "      <td>1.0</td>\n",
       "    </tr>\n",
       "    <tr>\n",
       "      <th>2</th>\n",
       "      <td>1.0</td>\n",
       "      <td>0.0</td>\n",
       "      <td>0.0</td>\n",
       "      <td>0.0</td>\n",
       "    </tr>\n",
       "    <tr>\n",
       "      <th>3</th>\n",
       "      <td>1.0</td>\n",
       "      <td>1.0</td>\n",
       "      <td>1.0</td>\n",
       "      <td>1.0</td>\n",
       "    </tr>\n",
       "    <tr>\n",
       "      <th>4</th>\n",
       "      <td>0.0</td>\n",
       "      <td>0.0</td>\n",
       "      <td>0.0</td>\n",
       "      <td>0.0</td>\n",
       "    </tr>\n",
       "  </tbody>\n",
       "</table>\n",
       "</div>"
      ],
      "text/plain": [
       "   AdaBoost  ExtraTrees  GradientBoost  RandomForest\n",
       "0       0.0         0.0            0.0           0.0\n",
       "1       1.0         1.0            1.0           1.0\n",
       "2       1.0         0.0            0.0           0.0\n",
       "3       1.0         1.0            1.0           1.0\n",
       "4       0.0         0.0            0.0           0.0"
      ]
     },
     "execution_count": 55,
     "metadata": {},
     "output_type": "execute_result"
    }
   ],
   "source": [
    "base_predictions_train = pd.DataFrame({'RandomForest': rf_oof_train.ravel(),\n",
    "                                         'ExtraTrees': et_oof_train.ravel(),\n",
    "                                         'AdaBoost': ada_oof_train.ravel(),\n",
    "                                          'GradientBoost': gb_oof_train.ravel()})\n",
    "base_predictions_train.head()"
   ]
  },
  {
   "cell_type": "code",
   "execution_count": 32,
   "metadata": {
    "collapsed": false
   },
   "outputs": [],
   "source": [
    "X_train = np.concatenate((et_oof_train, rf_oof_train, ada_oof_train, gb_oof_train), axis=1)\n",
    "X_test = np.concatenate((et_oof_test, rf_oof_test, ada_oof_test, gb_oof_test), axis=1)"
   ]
  },
  {
   "cell_type": "markdown",
   "metadata": {},
   "source": [
    "# Output"
   ]
  },
  {
   "cell_type": "code",
   "execution_count": 41,
   "metadata": {
    "collapsed": false
   },
   "outputs": [],
   "source": [
    "gb_clf = GradientBoostingClassifier()\n",
    "gb_clf.fit(X_train, y_train)\n",
    "pred = gb_clf.predict(X_test)"
   ]
  },
  {
   "cell_type": "code",
   "execution_count": 36,
   "metadata": {
    "collapsed": false
   },
   "outputs": [
    {
     "data": {
      "text/html": [
       "<div>\n",
       "<table border=\"1\" class=\"dataframe\">\n",
       "  <thead>\n",
       "    <tr style=\"text-align: right;\">\n",
       "      <th></th>\n",
       "      <th>PassengerId</th>\n",
       "      <th>Survived</th>\n",
       "    </tr>\n",
       "  </thead>\n",
       "  <tbody>\n",
       "    <tr>\n",
       "      <th>0</th>\n",
       "      <td>892</td>\n",
       "      <td>0</td>\n",
       "    </tr>\n",
       "    <tr>\n",
       "      <th>1</th>\n",
       "      <td>893</td>\n",
       "      <td>0</td>\n",
       "    </tr>\n",
       "    <tr>\n",
       "      <th>2</th>\n",
       "      <td>894</td>\n",
       "      <td>0</td>\n",
       "    </tr>\n",
       "    <tr>\n",
       "      <th>3</th>\n",
       "      <td>895</td>\n",
       "      <td>0</td>\n",
       "    </tr>\n",
       "    <tr>\n",
       "      <th>4</th>\n",
       "      <td>896</td>\n",
       "      <td>1</td>\n",
       "    </tr>\n",
       "  </tbody>\n",
       "</table>\n",
       "</div>"
      ],
      "text/plain": [
       "   PassengerId  Survived\n",
       "0          892         0\n",
       "1          893         0\n",
       "2          894         0\n",
       "3          895         0\n",
       "4          896         1"
      ]
     },
     "execution_count": 36,
     "metadata": {},
     "output_type": "execute_result"
    }
   ],
   "source": [
    "test_id = pd.read_csv('test.csv')['PassengerId']\n",
    "output = pd.DataFrame({'PassengerId' : test_id, 'Survived': pred})\n",
    "\n",
    "output.to_csv('Predictions.csv', index = False)\n",
    "output.head()"
   ]
  },
  {
   "cell_type": "code",
   "execution_count": null,
   "metadata": {
    "collapsed": true
   },
   "outputs": [],
   "source": []
  }
 ],
 "metadata": {
  "kernelspec": {
   "display_name": "Python 3",
   "language": "python",
   "name": "python3"
  },
  "language_info": {
   "codemirror_mode": {
    "name": "ipython",
    "version": 3
   },
   "file_extension": ".py",
   "mimetype": "text/x-python",
   "name": "python",
   "nbconvert_exporter": "python",
   "pygments_lexer": "ipython3",
   "version": "3.6.0"
  }
 },
 "nbformat": 4,
 "nbformat_minor": 2
}
